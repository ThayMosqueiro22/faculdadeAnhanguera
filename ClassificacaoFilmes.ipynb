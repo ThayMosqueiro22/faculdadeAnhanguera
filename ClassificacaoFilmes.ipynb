{
  "nbformat": 4,
  "nbformat_minor": 0,
  "metadata": {
    "colab": {
      "provenance": [],
      "authorship_tag": "ABX9TyPIg12dj2VZC685dv4DxYMw",
      "include_colab_link": true
    },
    "kernelspec": {
      "name": "python3",
      "display_name": "Python 3"
    },
    "language_info": {
      "name": "python"
    }
  },
  "cells": [
    {
      "cell_type": "markdown",
      "metadata": {
        "id": "view-in-github",
        "colab_type": "text"
      },
      "source": [
        "<a href=\"https://colab.research.google.com/github/ThayMosqueiro22/faculdadeAnhanguera/blob/main/ClassificacaoFilmes.ipynb\" target=\"_parent\"><img src=\"https://colab.research.google.com/assets/colab-badge.svg\" alt=\"Open In Colab\"/></a>"
      ]
    },
    {
      "cell_type": "code",
      "execution_count": null,
      "metadata": {
        "colab": {
          "base_uri": "https://localhost:8080/"
        },
        "id": "zpop8lISTtNK",
        "outputId": "45b64ed4-b155-497c-ceb3-65b648dcee14"
      },
      "outputs": [
        {
          "output_type": "stream",
          "name": "stdout",
          "text": [
            "Bem-vindo à classificação de Filmes!\n",
            "Você tem cinco filmes para classificar.\n",
            "Digite '0' a qualquer momento para parar.\n",
            "\n"
          ]
        }
      ],
      "source": [
        "#Lista de filmes para classificação\n",
        "filmes = [\"filme 1\",\"Filme 2\",\"Filme 3\", \"Filme 4\", \"Filme 5\"]\n",
        "\n",
        "#Mensagens de boas-vindas\n",
        "print(\"Bem-vindo à classificação de Filmes!\")\n",
        "print(\"Você tem cinco filmes para classificar.\")\n",
        "print(\"Digite '0' a qualquer momento para parar.\\n\")\n",
        "\n",
        "#Loop para iterar sobre cada filme da lista\n",
        "for filme in filmes:\n",
        "  #Solicita a classificação ao usuário\n",
        "  classificacao = input(f\"Como você classifique  '{filme}' de 1 a 5 ?  (ou 0 para parar): \")\n",
        "\n",
        "  #Verifica se o usuário deseja parar\n",
        "  if classificacao == \"0\":\n",
        "    print(\"Que pena que você não irá classificar mais os filmes.\")\n",
        "    break #Encerra o loop principal\n",
        "\n",
        "  #Converte a classificação para um número inteiro\n",
        "  classificacao = int(classificacao)\n",
        "\n",
        "  #veifica se a classificação está dentro do intervalo válido\n",
        "  if classificacao < 1 or classificacao > 5:\n",
        "    print(\" Por favor, digite uma Classificação inválida de 1 a 5.\")\n",
        "  else:\n",
        "    #Exibe a classificação e passa para o próximo filme\n",
        "    print(f\"você classificação '{filme}'com '{classificacao}'estrelas.\\n\")\n",
        "#Mensagem de agradecimento ao finalizar\n",
        "print(\"Obrigado por classificar os filmes. Até a próxima!\")"
      ]
    }
  ]
}