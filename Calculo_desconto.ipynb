{
  "nbformat": 4,
  "nbformat_minor": 0,
  "metadata": {
    "colab": {
      "provenance": [],
      "authorship_tag": "ABX9TyM/+zwW7ezt1pMfvaSQ5uxi"
    },
    "kernelspec": {
      "name": "python3",
      "display_name": "Python 3"
    },
    "language_info": {
      "name": "python"
    }
  },
  "cells": [
    {
      "cell_type": "code",
      "execution_count": 4,
      "metadata": {
        "colab": {
          "base_uri": "https://localhost:8080/"
        },
        "id": "ZDBnFAEsa-M9",
        "outputId": "9972764c-589b-4b50-88c1-cd1172a08edb"
      },
      "outputs": [
        {
          "output_type": "stream",
          "name": "stdout",
          "text": [
            "Digite o valor do produto: R$ 55\n",
            "Digite o percentual de desconto: 10\n",
            "O valor com desconto é: R$ 49.50\n"
          ]
        }
      ],
      "source": [
        "valor_produto = float(input(\"Digite o valor do produto: R$ \"))\n",
        "percentual_desconto = float(input(\"Digite o percentual de desconto: \"))\n",
        "\n",
        "if percentual_desconto < 0 or percentual_desconto > 100:\n",
        "    print(\"Erro:o percentual de desconto deve estar entre 0% e 100%.\")\n",
        "else:\n",
        "  desconto = valor_produto * (percentual_desconto / 100)\n",
        "  valor_final = valor_produto - desconto\n",
        "\n",
        "  print(f\"O valor com desconto é: R$ {valor_final:.2f}\")\n"
      ]
    }
  ]
}