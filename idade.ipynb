{
  "nbformat": 4,
  "nbformat_minor": 0,
  "metadata": {
    "colab": {
      "provenance": [],
      "authorship_tag": "ABX9TyMuwK3FqNZsICZ5AZQJzplL",
      "include_colab_link": true
    },
    "kernelspec": {
      "name": "python3",
      "display_name": "Python 3"
    },
    "language_info": {
      "name": "python"
    }
  },
  "cells": [
    {
      "cell_type": "markdown",
      "metadata": {
        "id": "view-in-github",
        "colab_type": "text"
      },
      "source": [
        "<a href=\"https://colab.research.google.com/github/ThayMosqueiro22/faculdadeAnhanguera/blob/main/idade.ipynb\" target=\"_parent\"><img src=\"https://colab.research.google.com/assets/colab-badge.svg\" alt=\"Open In Colab\"/></a>"
      ]
    },
    {
      "cell_type": "code",
      "execution_count": 11,
      "metadata": {
        "colab": {
          "base_uri": "https://localhost:8080/"
        },
        "id": "NrhWo6QEKWkl",
        "outputId": "15d35fdc-618a-4d84-a2d4-fe3f96cd6686"
      },
      "outputs": [
        {
          "output_type": "stream",
          "name": "stdout",
          "text": [
            "digite sua idade: 52\n",
            "adulto\n"
          ]
        }
      ],
      "source": [
        "idade=int(input('digite sua idade: '))\n",
        "\n",
        "if idade < 18:\n",
        "  print('menor de idade')\n",
        "elif idade >= 18 and idade < 65:\n",
        "  print('adulto')\n",
        "else:\n",
        "  print('idoso')"
      ]
    }
  ]
}