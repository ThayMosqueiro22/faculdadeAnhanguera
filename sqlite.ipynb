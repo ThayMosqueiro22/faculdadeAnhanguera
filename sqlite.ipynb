{
  "nbformat": 4,
  "nbformat_minor": 0,
  "metadata": {
    "colab": {
      "provenance": [],
      "authorship_tag": "ABX9TyNrp/vPzm6cLXG9iGa6mt53",
      "include_colab_link": true
    },
    "kernelspec": {
      "name": "python3",
      "display_name": "Python 3"
    },
    "language_info": {
      "name": "python"
    }
  },
  "cells": [
    {
      "cell_type": "markdown",
      "metadata": {
        "id": "view-in-github",
        "colab_type": "text"
      },
      "source": [
        "<a href=\"https://colab.research.google.com/github/ThayMosqueiro22/faculdadeAnhanguera/blob/main/sqlite.ipynb\" target=\"_parent\"><img src=\"https://colab.research.google.com/assets/colab-badge.svg\" alt=\"Open In Colab\"/></a>"
      ]
    },
    {
      "cell_type": "code",
      "execution_count": 1,
      "metadata": {
        "id": "UN94BZlb_MCa"
      },
      "outputs": [],
      "source": [
        "import sqlite3\n",
        "conn = sqlite3.connect('funcionarios.db')\n"
      ]
    },
    {
      "cell_type": "code",
      "source": [
        "cursor =conn.cursor()\n",
        "cursor.execute('''\n",
        "CREATE TABLE IF NOT EXISTS funcionarios (\n",
        "    id INTEGER PRIMARY KEY,\n",
        "    nome TEXT,\n",
        "    cargo TEXT,\n",
        "    salario REAL\n",
        ")\n",
        "''')"
      ],
      "metadata": {
        "colab": {
          "base_uri": "https://localhost:8080/"
        },
        "id": "A2CWrF9DAY1i",
        "outputId": "6778945f-4783-43a8-b429-89cfe4ccfe93"
      },
      "execution_count": 2,
      "outputs": [
        {
          "output_type": "execute_result",
          "data": {
            "text/plain": [
              "<sqlite3.Cursor at 0x7e1c60983240>"
            ]
          },
          "metadata": {},
          "execution_count": 2
        }
      ]
    },
    {
      "cell_type": "code",
      "source": [
        "# novo_funcionario=(1,'João','Analista',5000)\n",
        "# cursor.execute('INSERT INTO funcionarios VALUES(?,?,?,?)',novo_funcionario)\n",
        "# novo_funcionario=(2,'Maria','Gerente',15000)\n",
        "# cursor.execute('INSERT INTO funcionarios VALUES(?,?,?,?)',novo_funcionario)\n",
        "novo_funcionario=(3,'Lucas','Tecnico',4000)\n",
        "cursor.execute('INSERT INTO funcionarios VALUES(?,?,?,?)',novo_funcionario)\n",
        "conn.commit()"
      ],
      "metadata": {
        "id": "Nlpu4iW8BhuS"
      },
      "execution_count": 15,
      "outputs": []
    },
    {
      "cell_type": "code",
      "source": [
        "cursor.execute('SELECT * FROM funcionarios')\n",
        "funcionarios = cursor.fetchall()\n",
        "print('Funcionários Cadastrados:')\n",
        "for funcionario in funcionarios:\n",
        "  print(funcionario)"
      ],
      "metadata": {
        "colab": {
          "base_uri": "https://localhost:8080/"
        },
        "id": "NLHBjmEFBlpI",
        "outputId": "d40585bc-1d8b-45d1-ae8a-8a429949ec67"
      },
      "execution_count": 18,
      "outputs": [
        {
          "output_type": "stream",
          "name": "stdout",
          "text": [
            "Funcionários Cadastrados:\n",
            "(2, 'Maria', 'Gerente', 15000.0)\n",
            "(3, 'Lucas', 'Tecnico', 4000.0)\n"
          ]
        }
      ]
    },
    {
      "cell_type": "code",
      "source": [
        "atualizacao = ('João Silva',55000.00,1)\n",
        "cursor.execute('UPDATE funcionarios SET nome=?, salario=? WHERE id=?',atualizacao)\n",
        "conn.commit()\n"
      ],
      "metadata": {
        "id": "ooiGEMkeCMp6"
      },
      "execution_count": 10,
      "outputs": []
    },
    {
      "cell_type": "code",
      "source": [
        "id_funcionario_para_deletar = 1\n",
        "cursor.execute('DELETE FROM funcionarios WHERE id=?', (id_funcionario_para_deletar,))\n",
        "conn.commit()"
      ],
      "metadata": {
        "id": "Y7Ym4jOjECfA"
      },
      "execution_count": 17,
      "outputs": []
    }
  ]
}