{
  "nbformat": 4,
  "nbformat_minor": 0,
  "metadata": {
    "colab": {
      "provenance": [],
      "authorship_tag": "ABX9TyPldM9DdSTOo1SWYr5EcW6k",
      "include_colab_link": true
    },
    "kernelspec": {
      "name": "python3",
      "display_name": "Python 3"
    },
    "language_info": {
      "name": "python"
    }
  },
  "cells": [
    {
      "cell_type": "markdown",
      "metadata": {
        "id": "view-in-github",
        "colab_type": "text"
      },
      "source": [
        "<a href=\"https://colab.research.google.com/github/ThayMosqueiro22/faculdadeAnhanguera/blob/main/testes.ipynb\" target=\"_parent\"><img src=\"https://colab.research.google.com/assets/colab-badge.svg\" alt=\"Open In Colab\"/></a>"
      ]
    },
    {
      "cell_type": "code",
      "execution_count": 2,
      "metadata": {
        "colab": {
          "base_uri": "https://localhost:8080/"
        },
        "id": "BDo-TB_exbtu",
        "outputId": "c2b60762-b701-49f5-94d1-b2801d212a4b"
      },
      "outputs": [
        {
          "output_type": "stream",
          "name": "stdout",
          "text": [
            "11\n"
          ]
        }
      ],
      "source": [
        "#assert\n",
        "def sum_numbers(numbers):\n",
        "      assert sum([1,2,3,4]) ==10\n",
        "      assert sum([-1,0,1]) == 0\n",
        "      assert sum([]) == 0\n",
        "      return sum(numbers)\n",
        "teste = sum_numbers([1,2,3,5])\n",
        "print(teste)"
      ]
    },
    {
      "cell_type": "code",
      "source": [
        "#doctest\n",
        "def sum_numbers(numbers):\n",
        "      \"\"\"\n",
        "      Soma os números em uma lista.\n",
        "      >>> sum_numbers([1, 2, 3, 4])\n",
        "      10\n",
        "      >>> sum_numbers([-1, 0, 1])\n",
        "      0\n",
        "      >>> sum_numbers([])\n",
        "      0\n",
        "      \"\"\"\n",
        "      return sum(numbers)\n",
        "if __name__ == \"__main__\":\n",
        "      import doctest\n",
        "      doctest.testmod()"
      ],
      "metadata": {
        "id": "y-N1xOhxx-I1"
      },
      "execution_count": 3,
      "outputs": []
    },
    {
      "cell_type": "code",
      "source": [
        "#unittest\n",
        "import unittest\n",
        "def sum_numbers(numbers):\n",
        "      return sum(numbers)\n",
        "\n",
        "class TestSumNumbers(unittest.TestCase):\n",
        "      def test_sum_numbers(self):\n",
        "            self.assertEqual(sum_numbers([1, 2, 3, 4]), 10)\n",
        "\n",
        "      def test_sum_numbers_mixed(self):\n",
        "            self.assertEqual(sum_numbers([-1, 0, 1]), 0)\n",
        "\n",
        "      def test_sum_numbers_empty(self):\n",
        "            self.assertEqual(sum_numbers([]), 0)\n",
        "\n",
        "if __name__ == \"__main__\":\n",
        "      unittest.main(argv=['first-arg-is-ignored'],exit=False)"
      ],
      "metadata": {
        "colab": {
          "base_uri": "https://localhost:8080/"
        },
        "id": "V4_OgX01yYEi",
        "outputId": "2049eb7c-5799-44c4-a958-7962d3533e5c"
      },
      "execution_count": 4,
      "outputs": [
        {
          "output_type": "stream",
          "name": "stderr",
          "text": [
            "...\n",
            "----------------------------------------------------------------------\n",
            "Ran 3 tests in 0.002s\n",
            "\n",
            "OK\n"
          ]
        }
      ]
    }
  ]
}