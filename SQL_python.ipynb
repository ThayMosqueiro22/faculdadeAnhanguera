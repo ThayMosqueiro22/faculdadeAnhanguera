{
  "nbformat": 4,
  "nbformat_minor": 0,
  "metadata": {
    "colab": {
      "provenance": [],
      "authorship_tag": "ABX9TyPDjUJ+G7a7JJx5i/R637Md",
      "include_colab_link": true
    },
    "kernelspec": {
      "name": "python3",
      "display_name": "Python 3"
    },
    "language_info": {
      "name": "python"
    }
  },
  "cells": [
    {
      "cell_type": "markdown",
      "metadata": {
        "id": "view-in-github",
        "colab_type": "text"
      },
      "source": [
        "<a href=\"https://colab.research.google.com/github/ThayMosqueiro22/faculdadeAnhanguera/blob/main/SQL_python.ipynb\" target=\"_parent\"><img src=\"https://colab.research.google.com/assets/colab-badge.svg\" alt=\"Open In Colab\"/></a>"
      ]
    },
    {
      "cell_type": "code",
      "source": [
        "import sqlite3\n",
        "\n",
        "conn = sqlite3.connect('contatos.db')\n",
        "\n",
        "cursor = conn.cursor()\n",
        "cursor.execute('''CREATE TABLE IF NOT EXISTS Contatos (\n",
        "  nome TEXT,\n",
        "  telefone TEXT,\n",
        "  email TEXT)\n",
        "  ''')\n",
        "\n",
        "dados_exemplo = [\n",
        "    ('João','joao@email','123-456-789'),\n",
        "    ('Maria','maria@email','987-654-321'),\n",
        "    ('Carlo','carlo@email','112-233-4455')\n",
        "\n",
        "]\n",
        "\n",
        "cursor.executemany('INSERT INTO Contatos (nome,telefone,email) VALUES (?,?,?)',dados_exemplo)\n",
        "\n",
        "conn.commit()\n",
        "\n",
        "cursor.execute('SELECT * FROM Contatos')\n",
        "contatos = cursor.fetchall() # Fetch all contacts\n",
        "print(\"Contatos\")\n",
        "for contato in contatos: # Iterate over the fetched contacts\n",
        "  print(contato)\n",
        "\n",
        "novo_telefone='999-999-9999'\n",
        "contato_id = 2 # Use nome as the identifier for update\n",
        "\n",
        "cursor.execute('UPDATE Contatos SET telefone = ? WHERE nome = ?', (novo_telefone,contato_nome))\n",
        "conn.commit()\n",
        "\n",
        "contato_nome_para_excluir = 'Carlo' # Use nome as the identifier for delete\n",
        "cursor.execute('DELETE FROM Contatos WHERE nome = ?', (contato_nome_para_excluir,))\n",
        "conn.commit()\n",
        "\n",
        "conn.close()"
      ],
      "metadata": {
        "colab": {
          "base_uri": "https://localhost:8080/"
        },
        "id": "FX8A354bqOnN",
        "outputId": "4bf01b0a-b0a0-4366-a7f8-c4eb00dc8756"
      },
      "execution_count": 6,
      "outputs": [
        {
          "output_type": "stream",
          "name": "stdout",
          "text": [
            "Contatos\n",
            "('João', 'joao@email', '123456789')\n",
            "('Maria', '999-999-9999', '987654321')\n",
            "('João', 'joao@email', '123-456-789')\n",
            "('Maria', '999-999-9999', '987-654-321')\n",
            "('João', 'joao@email', '123-456-789')\n",
            "('Maria', 'maria@email', '987-654-321')\n",
            "('Carlo', 'carlo@email', '112-233-4455')\n"
          ]
        }
      ]
    }
  ]
}