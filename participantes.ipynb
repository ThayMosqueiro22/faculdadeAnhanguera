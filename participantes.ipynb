{
  "nbformat": 4,
  "nbformat_minor": 0,
  "metadata": {
    "colab": {
      "provenance": [],
      "authorship_tag": "ABX9TyMSzBtlI7Oyfk2g7lfY2BId",
      "include_colab_link": true
    },
    "kernelspec": {
      "name": "python3",
      "display_name": "Python 3"
    },
    "language_info": {
      "name": "python"
    }
  },
  "cells": [
    {
      "cell_type": "markdown",
      "metadata": {
        "id": "view-in-github",
        "colab_type": "text"
      },
      "source": [
        "<a href=\"https://colab.research.google.com/github/ThayMosqueiro22/faculdadeAnhanguera/blob/main/participantes.ipynb\" target=\"_parent\"><img src=\"https://colab.research.google.com/assets/colab-badge.svg\" alt=\"Open In Colab\"/></a>"
      ]
    },
    {
      "cell_type": "code",
      "execution_count": 6,
      "metadata": {
        "colab": {
          "base_uri": "https://localhost:8080/"
        },
        "id": "-fRQ13yJwkAz",
        "outputId": "1f2a64b4-6c16-49ac-8318-52cbe64e5ac9"
      },
      "outputs": [
        {
          "output_type": "stream",
          "name": "stdout",
          "text": [
            "Regiões dos participantes:  {'Índia', 'Canadá', 'França', 'Brasil', 'EUA'}\n",
            "Afiliações dos participantes : \n",
            "Universidade A: Alice\n",
            "Instituto B: Bob\n",
            "Instituto C: Charlie\n",
            "Universidade D: David\n",
            "Instituto E: Eva\n",
            "Área de interesse mais popular:  Engenharia\n"
          ]
        }
      ],
      "source": [
        "import numpy as np\n",
        "\n",
        "participantes = [\n",
        "    {\n",
        "                 \"nome\":\"Alice\",\n",
        "                 \"localizacao\":\"EUA\",\n",
        "                 \"afiliacao\": \"Universidade A\",\n",
        "                 \"interesses\":[\"Física\",\"Astronomia\"],\n",
        "},\n",
        "{                 \"nome\":\"Bob\",\n",
        "                 \"localizacao\":\"Brasil\",\n",
        "                 \"afiliacao\": \"Instituto B\",\n",
        "                 \"interesses\": [\"Biologia\",\"Astronomia\"],\n",
        "\n",
        "},\n",
        "{\n",
        "                 \"nome\":\"Charlie\",\n",
        "                 \"localizacao\":\"Índia\",\n",
        "                 \"afiliacao\": \"Instituto C\"  ,\n",
        "                 \"interesses\":[\"Química\",\"Engenharia\"],\n",
        "},\n",
        "    {\n",
        "                 \"nome\":\"David\",\n",
        "                 \"localizacao\":\"Canadá\",\n",
        "                 \"afiliacao\": \"Universidade D\",\n",
        "                 \"interesses\":[\"Matemática\",\"Engenharia\"],\n",
        "\n",
        "},{\n",
        "                 \"nome\":\"Eva\",\n",
        "                 \"localizacao\":\"França\",\n",
        "                 \"afiliacao\": \"Instituto E\",\n",
        "                 \"interesses\":[\"Física\",\"Engenharia\"],\n",
        "}\n",
        "\n",
        "\n",
        "]\n",
        "\n",
        "regioes = set(participante[\"localizacao\"] for participante in participantes)\n",
        "\n",
        "afiliacoes = {}\n",
        "for participante in participantes:\n",
        "    afiliacao = participante[\"afiliacao\"]\n",
        "    if afiliacao not in afiliacoes:\n",
        "        afiliacoes[afiliacao] = []\n",
        "    afiliacoes[afiliacao].append(participante[\"nome\"])\n",
        "\n",
        "areas_de_interesse = np.array([interesse for participante in participantes for interesse in participante[\"interesses\"]])\n",
        "interesses_unicos, contagem = np.unique(areas_de_interesse, return_counts=True)\n",
        "area_mais_populada = interesses_unicos[np.argmax(contagem)]\n",
        "\n",
        "print(\"Regiões dos participantes: \", regioes)\n",
        "print(\"Afiliações dos participantes : \",)\n",
        "for afiliacao, nomes in afiliacoes.items():\n",
        "    print(f\"{afiliacao}: {', '.join(nomes)}\")\n",
        "print(\"Área de interesse mais popular: \", area_mais_populada)\n"
      ]
    }
  ]
}