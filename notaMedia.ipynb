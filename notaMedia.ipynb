{
  "nbformat": 4,
  "nbformat_minor": 0,
  "metadata": {
    "colab": {
      "provenance": [],
      "authorship_tag": "ABX9TyPqq74DnEbDmEVZHVbzMUtm",
      "include_colab_link": true
    },
    "kernelspec": {
      "name": "python3",
      "display_name": "Python 3"
    },
    "language_info": {
      "name": "python"
    }
  },
  "cells": [
    {
      "cell_type": "markdown",
      "metadata": {
        "id": "view-in-github",
        "colab_type": "text"
      },
      "source": [
        "<a href=\"https://colab.research.google.com/github/ThayMosqueiro22/faculdadeAnhanguera/blob/main/notaMedia.ipynb\" target=\"_parent\"><img src=\"https://colab.research.google.com/assets/colab-badge.svg\" alt=\"Open In Colab\"/></a>"
      ]
    },
    {
      "cell_type": "code",
      "source": [
        "nota_1 = int(input('digite a primeira nota: '))\n",
        "nota_2 = int(input('digite a segunda nota: '))\n",
        "nota_3 = int(input('digite a terceira nota: '))\n",
        "nota_4 = int(input('digite a quarta nota: '))\n",
        "\n",
        "media = (nota_1 + nota_2 + nota_3 + nota_4) / 4\n",
        "\n",
        "if media >= 6:\n",
        "    situacao = \"Aprovado\"\n",
        "else:\n",
        "    situacao = \"Reprovado\"\n",
        "\n",
        "print(f\"A média das notas é {media}\")\n",
        "print(f\"Situação do aluno {situacao}\")"
      ],
      "metadata": {
        "colab": {
          "base_uri": "https://localhost:8080/"
        },
        "id": "CZimJ99T74Ko",
        "outputId": "60f843fd-e7bf-4841-bf1a-925629790d5c"
      },
      "execution_count": 19,
      "outputs": [
        {
          "output_type": "stream",
          "name": "stdout",
          "text": [
            "digite a primeira nota: 5\n",
            "digite a segunda nota: 6\n",
            "digite a terceira nota: 8\n",
            "digite a quarta nota: 7\n",
            "A média das notas é 6.5\n",
            "Situação do aluno Aprovado\n"
          ]
        }
      ]
    }
  ]
}