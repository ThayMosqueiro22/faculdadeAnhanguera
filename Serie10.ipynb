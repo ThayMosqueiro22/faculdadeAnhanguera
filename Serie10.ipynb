{
  "nbformat": 4,
  "nbformat_minor": 0,
  "metadata": {
    "colab": {
      "provenance": [],
      "authorship_tag": "ABX9TyNJFfxUhBkh4nL91dB8xScv",
      "include_colab_link": true
    },
    "kernelspec": {
      "name": "python3",
      "display_name": "Python 3"
    },
    "language_info": {
      "name": "python"
    }
  },
  "cells": [
    {
      "cell_type": "markdown",
      "metadata": {
        "id": "view-in-github",
        "colab_type": "text"
      },
      "source": [
        "<a href=\"https://colab.research.google.com/github/ThayMosqueiro22/faculdadeAnhanguera/blob/main/Serie10.ipynb\" target=\"_parent\"><img src=\"https://colab.research.google.com/assets/colab-badge.svg\" alt=\"Open In Colab\"/></a>"
      ]
    },
    {
      "cell_type": "code",
      "execution_count": 2,
      "metadata": {
        "colab": {
          "base_uri": "https://localhost:8080/"
        },
        "id": "Kon-vJdml5Cn",
        "outputId": "ed154ea1-9ad3-4080-ba4a-21f3762e9f19"
      },
      "outputs": [
        {
          "output_type": "stream",
          "name": "stdout",
          "text": [
            "Serie de Idade:\n",
            "Alice    25\n",
            "Bob      30\n",
            "Carol    22\n",
            "David    28\n",
            "Eve      35\n",
            "dtype: int64\n",
            "\n",
            "Media das Idades: 28.0\n"
          ]
        }
      ],
      "source": [
        "import pandas as pd\n",
        "\n",
        "dados = {\n",
        "    'Nome':['Alice','Bob','Carol','David','Eve'],\n",
        "    'Idade':[25,30,22,28,35],\n",
        "\n",
        "}\n",
        "\n",
        "serie_idades = pd.Series(dados['Idade'], index=dados['Nome'])\n",
        "\n",
        "print(\"Serie de Idade:\")\n",
        "print(serie_idades)\n",
        "\n",
        "media_idades = serie_idades.mean()\n",
        "\n",
        "print(\"\\nMedia das Idades:\", media_idades)"
      ]
    },
    {
      "cell_type": "code",
      "source": [],
      "metadata": {
        "id": "R9atEFaRnhTI"
      },
      "execution_count": null,
      "outputs": []
    }
  ]
}