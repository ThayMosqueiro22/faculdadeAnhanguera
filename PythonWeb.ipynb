{
  "nbformat": 4,
  "nbformat_minor": 0,
  "metadata": {
    "colab": {
      "provenance": [],
      "authorship_tag": "ABX9TyNlaE0xg+GtsnEEeJEQeOk8",
      "include_colab_link": true
    },
    "kernelspec": {
      "name": "python3",
      "display_name": "Python 3"
    },
    "language_info": {
      "name": "python"
    }
  },
  "cells": [
    {
      "cell_type": "markdown",
      "metadata": {
        "id": "view-in-github",
        "colab_type": "text"
      },
      "source": [
        "<a href=\"https://colab.research.google.com/github/ThayMosqueiro22/faculdadeAnhanguera/blob/main/PythonWeb.ipynb\" target=\"_parent\"><img src=\"https://colab.research.google.com/assets/colab-badge.svg\" alt=\"Open In Colab\"/></a>"
      ]
    },
    {
      "cell_type": "code",
      "source": [
        "from types import FunctionType\n",
        "html_code = \"\"\"\n",
        "<!DOCTYPE html>\n",
        "<html lang =\"en\">\n",
        "<head>\n",
        "  <meta charset=\"UTF-8\">\n",
        "  <meta name=\"viewport\" content=\"width=device-width, initial-scale=1.0\">\n",
        "  <title>Minha Primeira Página Web</title>\n",
        "  <style>\n",
        "    body{\n",
        "        font-family:'Arial', sans-serif;\n",
        "        background-color: #f2f2f2;\n",
        "        margin:0;\n",
        "        display: flex;\n",
        "        justify-content: center;\n",
        "        align-items: center;\n",
        "        height: 100vh;\n",
        "        text-align: center;\n",
        "        padding: 20px;\n",
        "    }\n",
        "\n",
        "    .container{\n",
        "        text-align: center;\n",
        "        background-color: #fff;\n",
        "        padding: 20px;\n",
        "        border-radius: 5px;\n",
        "        box-shadow: 0 0 10px rgba(0,0,0,0.1);\n",
        "    }\n",
        "\n",
        "    h1{\n",
        "        color: #333;\n",
        "        font-size: 24px;\n",
        "        margin-bottom: 10px;\n",
        "    }\n",
        "\n",
        "    p{\n",
        "        color: #666;\n",
        "        font-size:1.2em;\n",
        "    }\n",
        "\n",
        "    button{\n",
        "        background-color: #007bff;\n",
        "        color: #fff;\n",
        "        padding: 10px 20px;\n",
        "        border: none;\n",
        "        border-radius: 5px;\n",
        "        cursor: pointer;\n",
        "        transition: background-color 0.3s ease;\n",
        "    }\n",
        "\n",
        "    button:hover{\n",
        "        background-color: #0056b3;\n",
        "    }\n",
        "  </style>\n",
        "</head>\n",
        "<body>\n",
        "  <div class=\"container\">\n",
        "    <h1>Olá, Mundo!</h1>\n",
        "    <p>Esta é minha primeira página web criada com Python no COlab. Bem-vindo ao mundo da programação web!</p>\n",
        "    <button onclick=\"alert('Botão clicado!')\">Clique em Mim</button>\n",
        "  </div>\n",
        "</body>\n",
        "</html>\n",
        "\"\"\"\n",
        "\n",
        "from IPython.display import HTML\n",
        "HTML(html_code)"
      ],
      "metadata": {
        "colab": {
          "base_uri": "https://localhost:8080/",
          "height": 1000
        },
        "id": "_NtLjeQIgFOi",
        "outputId": "1517208e-6bbd-4d69-a1e9-6ac6360366fa"
      },
      "execution_count": 4,
      "outputs": [
        {
          "output_type": "execute_result",
          "data": {
            "text/plain": [
              "<IPython.core.display.HTML object>"
            ],
            "text/html": [
              "\n",
              "<!DOCTYPE html>\n",
              "<html lang =\"en\">\n",
              "<head>\n",
              "  <meta charset=\"UTF-8\">\n",
              "  <meta name=\"viewport\" content=\"width=device-width, initial-scale=1.0\">\n",
              "  <title>Minha Primeira Página Web</title>\n",
              "  <style>\n",
              "    body{\n",
              "        font-family:'Arial', sans-serif;\n",
              "        background-color: #f2f2f2;\n",
              "        margin:0;\n",
              "        display: flex;\n",
              "        justify-content: center;\n",
              "        align-items: center;\n",
              "        height: 100vh;\n",
              "        text-align: center;\n",
              "        padding: 20px;\n",
              "    }\n",
              "\n",
              "    .container{\n",
              "        text-align: center;\n",
              "        background-color: #fff;\n",
              "        padding: 20px;\n",
              "        border-radius: 5px;\n",
              "        box-shadow: 0 0 10px rgba(0,0,0,0.1);\n",
              "    }\n",
              "\n",
              "    h1{\n",
              "        color: #333;\n",
              "        font-size: 24px;\n",
              "        margin-bottom: 10px;\n",
              "    }\n",
              "\n",
              "    p{\n",
              "        color: #666;\n",
              "        font-size:1.2em;\n",
              "    }\n",
              "\n",
              "    button{\n",
              "        background-color: #007bff;\n",
              "        color: #fff;\n",
              "        padding: 10px 20px;\n",
              "        border: none;\n",
              "        border-radius: 5px;\n",
              "        cursor: pointer;\n",
              "        transition: background-color 0.3s ease;\n",
              "    }\n",
              "\n",
              "    button:hover{\n",
              "        background-color: #0056b3;\n",
              "    }\n",
              "  </style>\n",
              "</head>\n",
              "<body>\n",
              "  <div class=\"container\">\n",
              "    <h1>Olá, Mundo!</h1>\n",
              "    <p>Esta é minha primeira página web criada com Python no COlab. Bem-vindo ao mundo da programação web!</p>\n",
              "    <button onclick=\"alert('Botão clicado!')\">Clique em Mim</button>\n",
              "  </div>\n",
              "</body>\n",
              "</html>\n"
            ]
          },
          "metadata": {},
          "execution_count": 4
        }
      ]
    }
  ]
}