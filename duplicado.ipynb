{
  "nbformat": 4,
  "nbformat_minor": 0,
  "metadata": {
    "colab": {
      "provenance": [],
      "authorship_tag": "ABX9TyNnG/a8/JRndBJ3bDI+Uij2",
      "include_colab_link": true
    },
    "kernelspec": {
      "name": "python3",
      "display_name": "Python 3"
    },
    "language_info": {
      "name": "python"
    }
  },
  "cells": [
    {
      "cell_type": "markdown",
      "metadata": {
        "id": "view-in-github",
        "colab_type": "text"
      },
      "source": [
        "<a href=\"https://colab.research.google.com/github/ThayMosqueiro22/faculdadeAnhanguera/blob/main/duplicado.ipynb\" target=\"_parent\"><img src=\"https://colab.research.google.com/assets/colab-badge.svg\" alt=\"Open In Colab\"/></a>"
      ]
    },
    {
      "cell_type": "code",
      "execution_count": 1,
      "metadata": {
        "colab": {
          "base_uri": "https://localhost:8080/"
        },
        "id": "cCHTqjYRunEV",
        "outputId": "871c3cf8-735f-4aaf-b8a1-6a38adfd083b"
      },
      "outputs": [
        {
          "output_type": "stream",
          "name": "stdout",
          "text": [
            "        nome  quantidade de itens comprados tipo de item  receita total\n",
            "0  Produto A                              3   Eletrõnico            120\n",
            "1  Produto B                              1   Vestuário              80\n",
            "2  Produto C                              4     Alimento             60\n",
            "3  Produto A                              3   Eletrõnico            120\n",
            "4  Produto E                              2     Alimento             90\n",
            "        nome  quantidade de itens comprados tipo de item  receita total\n",
            "1  Produto B                              1   Vestuário              80\n",
            "2  Produto C                              4     Alimento             60\n",
            "3  Produto A                              3   Eletrõnico            120\n",
            "4  Produto E                              2     Alimento             90\n",
            "        nome  quantidade de itens comprados tipo de item  receita total  \\\n",
            "1  Produto B                              1   Vestuário              80   \n",
            "\n",
            "   preço do item  \n",
            "1           80.0  \n"
          ]
        }
      ],
      "source": [
        "import pandas as pd\n",
        "\n",
        "data ={\n",
        "    'nome':['Produto A', 'Produto B','Produto C','Produto A','Produto E'],\n",
        "    'quantidade de itens comprados':[3,1,4,3,2],\n",
        "    'tipo de item':['Eletrõnico','Vestuário ','Alimento','Eletrõnico','Alimento'],\n",
        "    'receita total':[120,80,60,120,90]\n",
        "}\n",
        "\n",
        "df = pd.DataFrame(data)\n",
        "print(df)\n",
        "\n",
        "df.drop_duplicates(keep = 'last', inplace = True)\n",
        "print(df)\n",
        "\n",
        "df['preço do item'] = df['receita total']/df['quantidade de itens comprados']\n",
        "\n",
        "itens_acima_de_50 = df[df['preço do item'] > 50]\n",
        "print(itens_acima_de_50)\n"
      ]
    }
  ]
}