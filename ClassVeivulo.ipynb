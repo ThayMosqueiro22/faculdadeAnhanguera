{
  "nbformat": 4,
  "nbformat_minor": 0,
  "metadata": {
    "colab": {
      "provenance": [],
      "authorship_tag": "ABX9TyPRj1FoVA96vNlhyOPIaGKo",
      "include_colab_link": true
    },
    "kernelspec": {
      "name": "python3",
      "display_name": "Python 3"
    },
    "language_info": {
      "name": "python"
    }
  },
  "cells": [
    {
      "cell_type": "markdown",
      "metadata": {
        "id": "view-in-github",
        "colab_type": "text"
      },
      "source": [
        "<a href=\"https://colab.research.google.com/github/ThayMosqueiro22/faculdadeAnhanguera/blob/main/ClassVeivulo.ipynb\" target=\"_parent\"><img src=\"https://colab.research.google.com/assets/colab-badge.svg\" alt=\"Open In Colab\"/></a>"
      ]
    },
    {
      "cell_type": "code",
      "execution_count": 4,
      "metadata": {
        "colab": {
          "base_uri": "https://localhost:8080/"
        },
        "id": "ksBYboztPpkk",
        "outputId": "e44cb682-0bec-485b-8226-7a179021ecb4"
      },
      "outputs": [
        {
          "output_type": "stream",
          "name": "stdout",
          "text": [
            "Status do Carro:\n",
            "Marca: Toyota, Modelo: Cotolla, Ano: 2022, Velocidade: 200 km/h\n",
            "\n",
            "Status da Bicicleta:\n",
            "Marca: Trek, Modelo: Mountain Bike, Ano: 2023,Tipo: MTB, Velocidade: 20 km/h \n"
          ]
        }
      ],
      "source": [
        "class Veiculo:\n",
        "  def __init__(self, marca, modelo, ano):\n",
        "    self.marca = marca\n",
        "    self.modelo = modelo\n",
        "    self.ano = ano\n",
        "    self.velocidade = 0 # Initialize velocidade\n",
        "\n",
        "  def acelerar(self, incremento):\n",
        "    self.velocidade += incremento\n",
        "\n",
        "  def frear(self, decremento):\n",
        "    self.velocidade -= decremento\n",
        "\n",
        "  def status(self):\n",
        "    return f'Marca: {self.marca}, Modelo: {self.modelo}, Ano: {self.ano}, Velocidade: {self.velocidade} km/h'\n",
        "\n",
        "class Carro(Veiculo):\n",
        "  def __init__(self, marca, modelo, ano, potencia):\n",
        "    super().__init__(marca, modelo, ano)\n",
        "    self.potencia = potencia\n",
        "\n",
        "  def acelerar(self,  incremento):\n",
        "    self.velocidade += incremento + self.potencia\n",
        "\n",
        "class Bicicleta(Veiculo):\n",
        "  def __init__(self, marca, modelo, ano, tipo):\n",
        "    super().__init__(marca, modelo, ano)\n",
        "    self.tipo = tipo\n",
        "\n",
        "  def status(self):\n",
        "    return f'Marca: {self.marca}, Modelo: {self.modelo}, Ano: {self.ano},Tipo: {self.tipo}, Velocidade: {self.velocidade} km/h '\n",
        "\n",
        "carro1 = Carro(\"Toyota\",\"Cotolla\",2022,150)\n",
        "bicicleta1 = Bicicleta(\"Trek\",\"Mountain Bike\",2023,\"MTB\")\n",
        "\n",
        "carro1.acelerar(50)\n",
        "bicicleta1.acelerar(20)\n",
        "\n",
        "print(\"Status do Carro:\")\n",
        "print(carro1.status())\n",
        "\n",
        "print(\"\\nStatus da Bicicleta:\") # Corrected escape sequence\n",
        "print(bicicleta1.status())"
      ]
    }
  ]
}